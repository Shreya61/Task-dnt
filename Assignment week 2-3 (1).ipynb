{
 "cells": [
  {
   "cell_type": "markdown",
   "id": "6fa78f95",
   "metadata": {},
   "source": [
    "# Math operations"
   ]
  },
  {
   "cell_type": "code",
   "execution_count": null,
   "id": "1e70bf07",
   "metadata": {},
   "outputs": [],
   "source": [
    "#Create a program that calculates the area of a circle given its radius\n",
    "n = float(input(\"Enter the radius : \"))\n",
    "print(\"The area of circle is : \",3.14*n**2)"
   ]
  },
  {
   "cell_type": "code",
   "execution_count": null,
   "id": "3f46d028",
   "metadata": {},
   "outputs": [],
   "source": [
    "#Find Armstrong number in range (0,1000) \n",
    "n = int(input(\"Enter the number : \"))\n",
    "\n",
    "def arm(n):\n",
    "    p = len(str(n))\n",
    "    l = list(str(n))\n",
    "    total = 0\n",
    "    for i in l:\n",
    "        total += int(i)**p\n",
    "    if total==n:\n",
    "        print(f\"{n} is an armstrong number.\")\n",
    "    else:\n",
    "        print(f\"{n} is not an armstrong number.\")\n",
    "        \n",
    "arm(n)"
   ]
  },
  {
   "cell_type": "code",
   "execution_count": null,
   "id": "2fc93e48",
   "metadata": {},
   "outputs": [],
   "source": [
    "#Check where the given number is prime or not? \n",
    "n = int(input(\"Enter the number : \"))\n",
    "\n",
    "def prime(n):\n",
    "    if n<=1:\n",
    "        return (print(f\"{n} is not a prime number.\"))\n",
    "    for i in range(2,int(n**0.5)+1):\n",
    "        if n%i==0:\n",
    "            return (print(f\"{n} is not a prime number.\"))\n",
    "    return (print(f\"{n} is a prime number.\"))\n",
    "\n",
    "prime(n)"
   ]
  },
  {
   "cell_type": "markdown",
   "id": "546d6492",
   "metadata": {},
   "source": [
    "# String Manupulation"
   ]
  },
  {
   "cell_type": "code",
   "execution_count": null,
   "id": "8a3c4241",
   "metadata": {},
   "outputs": [],
   "source": [
    "#Implement a program that counts the number of vowels in a given string.\n",
    "n = str(input(\"Enter the string : \"))\n",
    "\n",
    "def count(n):\n",
    "    l = ['a','e','i','o','u']\n",
    "    n = n.lower()\n",
    "    c=0\n",
    "    for i in n:\n",
    "        if i in l:\n",
    "            c+=1\n",
    "    return print(\"The number of vowels in the given string are : \",c)\n",
    "\n",
    "count(n)"
   ]
  },
  {
   "cell_type": "code",
   "execution_count": null,
   "id": "cf93a329",
   "metadata": {},
   "outputs": [],
   "source": [
    "#Create a program that checks if a given word, is a palindrome. \n",
    "n = str(input(\"Enter the string : \"))\n",
    "\n",
    "def pallindrome(n):\n",
    "    l=list(n)\n",
    "    l.reverse()\n",
    "    if n==\"\".join(l):\n",
    "        return print(\"The given word is pallindrome word\")\n",
    "    else:\n",
    "        return print(\"The given word is not a pallindrome word\")\n",
    "    \n",
    "pallindrome(n)"
   ]
  },
  {
   "cell_type": "markdown",
   "id": "5e1a36a7",
   "metadata": {},
   "source": [
    "# List and Looping"
   ]
  },
  {
   "cell_type": "code",
   "execution_count": null,
   "id": "7b09df5a",
   "metadata": {},
   "outputs": [],
   "source": [
    "#Write a one-liner using list comprehension to generate a list of squares of numbers from 1 to 10. \n",
    "l=[w*w for w in range(1,11)]\n",
    "print(l)"
   ]
  },
  {
   "cell_type": "code",
   "execution_count": null,
   "id": "a4f4b8ba",
   "metadata": {},
   "outputs": [],
   "source": [
    "#Implement a function that takes a list of temperatures in Celsius and uses the map function to convert them to Fahrenheit.  \n",
    "n=int(input(\"Enter the number of inputs you want to enter : \"))\n",
    "\n",
    "def Fahrenheit(c):\n",
    "    return (((9/5)*c)+32)\n",
    "def celsius(f):\n",
    "    return (((5/9)*(f-32)))\n",
    "\n",
    "def inlist(n):\n",
    "    l=[]\n",
    "    print(\"Enter the list of temperatures : \")\n",
    "    for i in range(n):\n",
    "        x=float(input())\n",
    "        l.append(x)\n",
    "    return l\n",
    "\n",
    "l = inlist(n)  \n",
    "F = list(map(Fahrenheit,l))\n",
    "C = list(map(celsius,l))\n",
    "print()\n",
    "\n",
    "print(\"Fahrenheit : \",F)\n",
    "print(\"celsius : \",C)"
   ]
  },
  {
   "cell_type": "markdown",
   "id": "5448a6e2",
   "metadata": {},
   "source": [
    "# Conditional statements "
   ]
  },
  {
   "cell_type": "code",
   "execution_count": null,
   "id": "d829e082",
   "metadata": {},
   "outputs": [],
   "source": [
    "#Implement a program that checks if a given number is even or odd without modular operator\n",
    "n=str(input(\"Enter the number : \"))\n",
    "l = ['1','3','4','5','7','9']\n",
    "if n[-1] in l:\n",
    "    print(f\"{n} is a odd number.\")\n",
    "else:\n",
    "    print(f\"{n} is an even number.\")"
   ]
  },
  {
   "cell_type": "code",
   "execution_count": null,
   "id": "76a77681",
   "metadata": {},
   "outputs": [],
   "source": [
    "#Write a program that determines whether a year is a leap year or not\n",
    "n=int(input(\"Enter the number : \"))\n",
    "if n%4==0:\n",
    "    print(f\"{n} is a leap year.\")\n",
    "else:\n",
    "    print(f\"{n} is not a leap year.\")"
   ]
  },
  {
   "cell_type": "markdown",
   "id": "9d5214c2",
   "metadata": {},
   "source": [
    "# Logical Patterns"
   ]
  },
  {
   "cell_type": "code",
   "execution_count": null,
   "id": "fa3920fa",
   "metadata": {},
   "outputs": [],
   "source": [
    "#Create a program to print a right-angled triangle pattern using asterisks\n",
    "for i in range(6):\n",
    "    print(\"*\"*i)"
   ]
  },
  {
   "cell_type": "code",
   "execution_count": null,
   "id": "52fc2136",
   "metadata": {},
   "outputs": [],
   "source": [
    "#Write a program to print the Fibonacci sequence up to a specified number of terms\n",
    "n=int(input(\"Enter the number : \"))\n",
    "\n",
    "def fib(n):\n",
    "    f = [0,1]\n",
    "    for i in range(2,n):\n",
    "        s = f[-1]+f[-2]\n",
    "        f.append(s)\n",
    "    return f\n",
    "\n",
    "print(fib(n))"
   ]
  },
  {
   "cell_type": "code",
   "execution_count": null,
   "id": "ae5b46bc",
   "metadata": {},
   "outputs": [],
   "source": [
    "#Implement a program to generate the following pattern:\n",
    "for i in range(4,0,-1):\n",
    "    for j in range(i):\n",
    "        if i!=j:\n",
    "            print(\" \",end=\"\")\n",
    "        else:\n",
    "            print(j,end=\"\")\n",
    "    for k in range(4,i-1,-1):\n",
    "        if i!=k:\n",
    "            print(k,end=\" \")\n",
    "        else:\n",
    "            print(i)\n",
    "    print() "
   ]
  },
  {
   "cell_type": "markdown",
   "id": "c640d742",
   "metadata": {},
   "source": [
    "# File Handling"
   ]
  },
  {
   "cell_type": "code",
   "execution_count": null,
   "id": "70c244cd",
   "metadata": {},
   "outputs": [],
   "source": [
    "#Write a program to read data from a file and display it on the console\n",
    "f = open(\"D:/text.txt\",\"r\")\n",
    "print(f.read())\n",
    "f.close()"
   ]
  },
  {
   "cell_type": "code",
   "execution_count": null,
   "id": "2e7645a5",
   "metadata": {},
   "outputs": [],
   "source": [
    "#Create a program that writes a list of numbers to a pickle file\n",
    "import pickle"
   ]
  },
  {
   "cell_type": "code",
   "execution_count": null,
   "id": "528501eb",
   "metadata": {},
   "outputs": [],
   "source": [
    "l = [w for w in range(1,11)]\n",
    "p = pickle.dumps(l)\n",
    "pickle.loads(p)"
   ]
  },
  {
   "cell_type": "code",
   "execution_count": null,
   "id": "2db09487",
   "metadata": {},
   "outputs": [],
   "source": [
    "with open('D:/new.txt', 'wb') as f:\n",
    "    pickle.dump(l, f)\n",
    "f.close()"
   ]
  },
  {
   "cell_type": "code",
   "execution_count": null,
   "id": "af04e3bc",
   "metadata": {},
   "outputs": [],
   "source": [
    "with open('D:/new.txt', 'rb') as f:\n",
    "    fp=pickle.load(f)\n",
    "print(fp)"
   ]
  },
  {
   "cell_type": "markdown",
   "id": "86dd7b39",
   "metadata": {},
   "source": [
    "# Random Module"
   ]
  },
  {
   "cell_type": "code",
   "execution_count": null,
   "id": "e4e06900",
   "metadata": {},
   "outputs": [],
   "source": [
    "#Implement a program that generates a random number between a specified range. \n",
    "import numpy as np\n",
    "\n",
    "n = int(input(\"Enter the lower range : \"))\n",
    "m = int(input(\"Enter the upper range : \"))"
   ]
  },
  {
   "cell_type": "code",
   "execution_count": null,
   "id": "e63a9da9",
   "metadata": {},
   "outputs": [],
   "source": [
    "a = np.random.rand(n,m)\n",
    "a"
   ]
  },
  {
   "cell_type": "code",
   "execution_count": null,
   "id": "94b1dec9",
   "metadata": {},
   "outputs": [],
   "source": [
    "#Write a program that simulates a dice roll\n",
    "a = np.random.randint(1,7)\n",
    "a"
   ]
  },
  {
   "cell_type": "markdown",
   "id": "09574b45",
   "metadata": {},
   "source": [
    "# Function Definitions"
   ]
  },
  {
   "cell_type": "code",
   "execution_count": null,
   "id": "1666ea07",
   "metadata": {},
   "outputs": [],
   "source": [
    "#Create a function to calculate the factorial of a list of numbers\n",
    "def fac(n):\n",
    "    f=1\n",
    "    for i in range(1,n+1):\n",
    "        f = f*i\n",
    "    return f\n",
    "\n",
    "n=int(input(\"Enter the number of inputs you want to enter : \"))\n",
    "def inlist(n):\n",
    "    l=[]\n",
    "    print(\"Enter the list of numbers : \")\n",
    "    for i in range(n):\n",
    "        x=int(input())\n",
    "        l.append(x)\n",
    "    return l"
   ]
  },
  {
   "cell_type": "code",
   "execution_count": null,
   "id": "d98fa71c",
   "metadata": {},
   "outputs": [],
   "source": [
    "l = inlist(n)\n",
    "f = list(map(fac,l))\n",
    "print(f)"
   ]
  },
  {
   "cell_type": "code",
   "execution_count": null,
   "id": "9bf3d343",
   "metadata": {},
   "outputs": [],
   "source": [
    "#Write a function that returns the greatest common divisor (GCD) of two numbers. \n",
    "import numpy as np\n",
    "#n=int(input(\"Enter the number of inputs you want to enter : \"))\n",
    "n=2\n",
    "def inlist(n):\n",
    "    l=[]\n",
    "    print(\"Enter the list of numbers : \")\n",
    "    for i in range(n):\n",
    "        x=int(input())\n",
    "        l.append(x)\n",
    "    return l\n",
    "\n",
    "def gcd(n):\n",
    "    l = inlist(n)\n",
    "    l = np.array(l)\n",
    "    d = []\n",
    "    for i in range(1,min(l)):\n",
    "        if l[0]%i==0 and l[1]%i==0:\n",
    "            d.append(i)\n",
    "    return max(d),l\n",
    "\n",
    "d,l = gcd(n)\n",
    "print(f\"The gcd of {l} is : \",d)"
   ]
  },
  {
   "cell_type": "code",
   "execution_count": null,
   "id": "0360482a",
   "metadata": {},
   "outputs": [],
   "source": [
    "#Solve prime number using recursion.\n",
    "n = int(input(\"Enter the number : \"))\n",
    "\n",
    "def prime(i,n):\n",
    "    if n==i:\n",
    "        return False\n",
    "    else:\n",
    "        if(n%i==0):\n",
    "            return True\n",
    "        else:\n",
    "            return (prime(i+1,n))\n",
    "\n",
    "p = prime(2,n)\n",
    "if (prime(2,p)==False):\n",
    "    print(f\"{n} is not a prime number\")\n",
    "else:\n",
    "    print(f\"{n} is a prime number\")"
   ]
  },
  {
   "cell_type": "markdown",
   "id": "4b58bd30",
   "metadata": {},
   "source": [
    "# Dictionary manipulation"
   ]
  },
  {
   "cell_type": "code",
   "execution_count": 1,
   "id": "dc486d8a",
   "metadata": {},
   "outputs": [
    {
     "name": "stdout",
     "output_type": "stream",
     "text": [
      "Enter the string : apple\n"
     ]
    },
    {
     "data": {
      "text/plain": [
       "{'a': 1, 'p': 2, 'l': 1, 'e': 1}"
      ]
     },
     "execution_count": 1,
     "metadata": {},
     "output_type": "execute_result"
    }
   ],
   "source": [
    "#Write a program that counts the frequency of each character in a given string and stores it in a dictionary\n",
    "n = str(input(\"Enter the string : \"))\n",
    "\n",
    "d={}\n",
    "l=list(n)\n",
    "for i in n:\n",
    "    c=n.count(i)\n",
    "    d.update({i:c})\n",
    "d"
   ]
  },
  {
   "cell_type": "code",
   "execution_count": 2,
   "id": "edfffc28",
   "metadata": {},
   "outputs": [
    {
     "name": "stdout",
     "output_type": "stream",
     "text": [
      "Enter the string : mango\n"
     ]
    },
    {
     "data": {
      "text/plain": [
       "{'m': 1, 'a': 1, 'n': 1, 'g': 1, 'o': 1}"
      ]
     },
     "execution_count": 2,
     "metadata": {},
     "output_type": "execute_result"
    }
   ],
   "source": [
    "#Create a program that combines two dictionaries into a new one.\n",
    "n = str(input(\"Enter the string : \"))\n",
    "\n",
    "d_new={}\n",
    "l=list(n)\n",
    "for i in n:\n",
    "    c=n.count(i)\n",
    "    d_new.update({i:c})\n",
    "d_new"
   ]
  },
  {
   "cell_type": "code",
   "execution_count": 3,
   "id": "8d150cf9",
   "metadata": {},
   "outputs": [],
   "source": [
    "d.update(d_new)"
   ]
  },
  {
   "cell_type": "code",
   "execution_count": 4,
   "id": "56abc92b",
   "metadata": {},
   "outputs": [
    {
     "name": "stdout",
     "output_type": "stream",
     "text": [
      "{'a': 1, 'p': 2, 'l': 1, 'e': 1, 'm': 1, 'n': 1, 'g': 1, 'o': 1}\n"
     ]
    }
   ],
   "source": [
    "print(d)"
   ]
  },
  {
   "cell_type": "code",
   "execution_count": 5,
   "id": "c81475b9",
   "metadata": {},
   "outputs": [
    {
     "data": {
      "text/plain": [
       "1"
      ]
     },
     "execution_count": 5,
     "metadata": {},
     "output_type": "execute_result"
    }
   ],
   "source": [
    "#Update, remove, add operations sort, threshold filtering\n",
    "d.pop(\"a\") #remove"
   ]
  },
  {
   "cell_type": "code",
   "execution_count": 6,
   "id": "cdc722da",
   "metadata": {},
   "outputs": [
    {
     "data": {
      "text/plain": [
       "{'p': 2, 'l': 1, 'e': 1, 'm': 1, 'n': 1, 'g': 1, 'o': 1}"
      ]
     },
     "execution_count": 6,
     "metadata": {},
     "output_type": "execute_result"
    }
   ],
   "source": [
    "d"
   ]
  },
  {
   "cell_type": "code",
   "execution_count": 7,
   "id": "bf6d9509",
   "metadata": {},
   "outputs": [],
   "source": [
    "del(d['l'])"
   ]
  },
  {
   "cell_type": "code",
   "execution_count": 8,
   "id": "ad198815",
   "metadata": {},
   "outputs": [
    {
     "name": "stdout",
     "output_type": "stream",
     "text": [
      "{'harry': 4, 'ron': 5.3, 'harmoine': 8}\n"
     ]
    }
   ],
   "source": [
    "#filter dictionary\n",
    "test_dict = {'harry':4, \"ron\":5.3, \"harmoine\":8, \"lily\":1, \"max\":2}\n",
    "res = {key:value for key,value in test_dict.items() if value>3}\n",
    "print(res)"
   ]
  },
  {
   "cell_type": "code",
   "execution_count": 9,
   "id": "4ad8d4c1",
   "metadata": {},
   "outputs": [],
   "source": [
    "res = {key:value for key,value in test_dict.items() if not isinstance (value,int) or value>3}"
   ]
  },
  {
   "cell_type": "code",
   "execution_count": 10,
   "id": "de086a66",
   "metadata": {},
   "outputs": [
    {
     "data": {
      "text/plain": [
       "{'harry': 4, 'ron': 5.3, 'harmoine': 8}"
      ]
     },
     "execution_count": 10,
     "metadata": {},
     "output_type": "execute_result"
    }
   ],
   "source": [
    "res"
   ]
  },
  {
   "cell_type": "code",
   "execution_count": 12,
   "id": "0de86efe",
   "metadata": {},
   "outputs": [
    {
     "data": {
      "text/plain": [
       "['ron', 'max', 'lily', 'harry', 'harmoine']"
      ]
     },
     "execution_count": 12,
     "metadata": {},
     "output_type": "execute_result"
    }
   ],
   "source": [
    "sorted(test_dict,reverse=True)"
   ]
  },
  {
   "cell_type": "code",
   "execution_count": 14,
   "id": "099ebb09",
   "metadata": {},
   "outputs": [],
   "source": [
    "testt_dict = {\"snape\":7, \"magonigal\":5, \"dumbledore\":6}\n",
    "test_dict |= testt_dict"
   ]
  },
  {
   "cell_type": "code",
   "execution_count": 15,
   "id": "6d5e5d6d",
   "metadata": {},
   "outputs": [
    {
     "data": {
      "text/plain": [
       "{'harry': 4,\n",
       " 'ron': 5.3,\n",
       " 'harmoine': 8,\n",
       " 'lily': 1,\n",
       " 'max': 2,\n",
       " 'snape': 7,\n",
       " 'magonigal': 5,\n",
       " 'dumbledore': 6}"
      ]
     },
     "execution_count": 15,
     "metadata": {},
     "output_type": "execute_result"
    }
   ],
   "source": [
    "test_dict"
   ]
  },
  {
   "cell_type": "markdown",
   "id": "5572011d",
   "metadata": {},
   "source": [
    "# Error Handling"
   ]
  },
  {
   "cell_type": "code",
   "execution_count": 17,
   "id": "4aa0158a",
   "metadata": {},
   "outputs": [
    {
     "name": "stdout",
     "output_type": "stream",
     "text": [
      "Division by zero Handled\n"
     ]
    }
   ],
   "source": [
    "#Implement a program that handles exceptions for division by zero\n",
    "try:\n",
    "    n = 5/0\n",
    "except:\n",
    "    print(\"Division by zero Handled\")"
   ]
  },
  {
   "cell_type": "code",
   "execution_count": 33,
   "id": "9b38660b",
   "metadata": {},
   "outputs": [
    {
     "name": "stdout",
     "output_type": "stream",
     "text": [
      "Enter the number : 5\n"
     ]
    }
   ],
   "source": [
    "#Write a program that prompts the user to enter a number and handles the Value Error if the input is not a valid number\n",
    "try:\n",
    "    n = float(input(\"Enter the number : \"))\n",
    "except:\n",
    "    print(\"Invalid number\")\n"
   ]
  },
  {
   "cell_type": "markdown",
   "id": "d7eda9f8",
   "metadata": {},
   "source": [
    "# Generator"
   ]
  },
  {
   "cell_type": "code",
   "execution_count": 4,
   "id": "5f183f64",
   "metadata": {},
   "outputs": [
    {
     "name": "stdout",
     "output_type": "stream",
     "text": [
      "Enter the limit : 6\n",
      "[0, 1, 1, 2, 3, 5]\n"
     ]
    }
   ],
   "source": [
    "#1.Fibonacci generator\n",
    "#Implement a generator that generates the Fibonacci sequence up to a specified limit. \n",
    "n=int(input(\"Enter the limit : \"))\n",
    "\n",
    "def fib(n):\n",
    "    f = [0,1]\n",
    "    for i in range(2,n):\n",
    "        s = f[-1]+f[-2]\n",
    "        f.append(s)\n",
    "    yield f\n",
    "    \n",
    "x = fib(n)\n",
    "print(next(x))"
   ]
  },
  {
   "cell_type": "markdown",
   "id": "4d9f8a7e",
   "metadata": {},
   "source": [
    "# Decorators"
   ]
  },
  {
   "cell_type": "code",
   "execution_count": 42,
   "id": "d0565faa",
   "metadata": {},
   "outputs": [],
   "source": [
    "#1.Time decorator\n",
    "#Implement a decorator that calculates and prints the execution time of a function\n",
    "from time import time\n",
    "\n",
    "def wrap(**args):\n",
    "    def add(a,b):\n",
    "        t=time()\n",
    "        val=a+b\n",
    "        t2=time()\n",
    "        print(t2-t)\n",
    "        return val\n",
    "    return add"
   ]
  },
  {
   "cell_type": "code",
   "execution_count": 43,
   "id": "63057ba3",
   "metadata": {},
   "outputs": [
    {
     "ename": "NameError",
     "evalue": "name 'args' is not defined",
     "output_type": "error",
     "traceback": [
      "\u001b[1;31m---------------------------------------------------------------------------\u001b[0m",
      "\u001b[1;31mNameError\u001b[0m                                 Traceback (most recent call last)",
      "Cell \u001b[1;32mIn[43], line 1\u001b[0m\n\u001b[1;32m----> 1\u001b[0m a \u001b[38;5;241m=\u001b[39m wrap(\u001b[38;5;241m*\u001b[39m\u001b[38;5;241m*\u001b[39margs)\n\u001b[0;32m      2\u001b[0m \u001b[38;5;28mprint\u001b[39m(a(\u001b[38;5;241m5\u001b[39m,\u001b[38;5;241m4\u001b[39m))\n",
      "\u001b[1;31mNameError\u001b[0m: name 'args' is not defined"
     ]
    }
   ],
   "source": [
    "a = wrap(**args)\n",
    "print(a(5,4))"
   ]
  },
  {
   "cell_type": "code",
   "execution_count": 16,
   "id": "5fe72c7f",
   "metadata": {},
   "outputs": [
    {
     "name": "stdout",
     "output_type": "stream",
     "text": [
      "Function 'long_time' executed in 75.8736s\n"
     ]
    }
   ],
   "source": [
    "from time import time \n",
    "\n",
    "def timer_func(func): \n",
    "    # This function shows the execution time of  \n",
    "    # the function object passed \n",
    "    def wrap_func(*args): \n",
    "        t1 = time() \n",
    "        result = func(*args) \n",
    "        t2 = time() \n",
    "        print(f'Function {func.__name__!r} executed in {(t2-t1):.4f}s') \n",
    "        return result \n",
    "    return wrap_func \n",
    "\n",
    "@timer_func\n",
    "def long_time(*n): \n",
    "    for i in n: \n",
    "        for j in range(100000): \n",
    "            i*j \n",
    "\n",
    "long_time([1,2,3,4,5])"
   ]
  },
  {
   "cell_type": "code",
   "execution_count": null,
   "id": "4f76cd29",
   "metadata": {},
   "outputs": [],
   "source": []
  }
 ],
 "metadata": {
  "kernelspec": {
   "display_name": "Python 3 (ipykernel)",
   "language": "python",
   "name": "python3"
  },
  "language_info": {
   "codemirror_mode": {
    "name": "ipython",
    "version": 3
   },
   "file_extension": ".py",
   "mimetype": "text/x-python",
   "name": "python",
   "nbconvert_exporter": "python",
   "pygments_lexer": "ipython3",
   "version": "3.11.5"
  }
 },
 "nbformat": 4,
 "nbformat_minor": 5
}
