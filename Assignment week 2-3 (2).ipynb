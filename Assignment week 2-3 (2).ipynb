{
 "cells": [
  {
   "cell_type": "markdown",
   "id": "6fa78f95",
   "metadata": {},
   "source": [
    "# Math operations"
   ]
  },
  {
   "cell_type": "code",
   "execution_count": null,
   "id": "1e70bf07",
   "metadata": {},
   "outputs": [],
   "source": [
    "#Create a program that calculates the area of a circle given its radius\n",
    "n = float(input(\"Enter the radius : \"))\n",
    "print(\"The area of circle is : \",3.14*n**2)"
   ]
  },
  {
   "cell_type": "code",
   "execution_count": null,
   "id": "3f46d028",
   "metadata": {},
   "outputs": [],
   "source": [
    "#Find Armstrong number in range (0,1000) \n",
    "n = int(input(\"Enter the number : \"))\n",
    "\n",
    "def arm(n):\n",
    "    p = len(str(n))\n",
    "    l = list(str(n))\n",
    "    total = 0\n",
    "    for i in l:\n",
    "        total += int(i)**p\n",
    "    if total==n:\n",
    "        print(f\"{n} is an armstrong number.\")\n",
    "    else:\n",
    "        print(f\"{n} is not an armstrong number.\")\n",
    "        \n",
    "arm(n)"
   ]
  },
  {
   "cell_type": "code",
   "execution_count": null,
   "id": "2fc93e48",
   "metadata": {},
   "outputs": [],
   "source": [
    "#Check where the given number is prime or not? \n",
    "n = int(input(\"Enter the number : \"))\n",
    "\n",
    "def prime(n):\n",
    "    if n<=1:\n",
    "        return (print(f\"{n} is not a prime number.\"))\n",
    "    for i in range(2,int(n**0.5)+1):\n",
    "        if n%i==0:\n",
    "            return (print(f\"{n} is not a prime number.\"))\n",
    "    return (print(f\"{n} is a prime number.\"))\n",
    "\n",
    "prime(n)"
   ]
  },
  {
   "cell_type": "markdown",
   "id": "546d6492",
   "metadata": {},
   "source": [
    "# String Manupulation"
   ]
  },
  {
   "cell_type": "code",
   "execution_count": null,
   "id": "8a3c4241",
   "metadata": {},
   "outputs": [],
   "source": [
    "#Implement a program that counts the number of vowels in a given string.\n",
    "n = str(input(\"Enter the string : \"))\n",
    "\n",
    "def count(n):\n",
    "    l = ['a','e','i','o','u']\n",
    "    n = n.lower()\n",
    "    c=0\n",
    "    for i in n:\n",
    "        if i in l:\n",
    "            c+=1\n",
    "    return print(\"The number of vowels in the given string are : \",c)\n",
    "\n",
    "count(n)"
   ]
  },
  {
   "cell_type": "code",
   "execution_count": null,
   "id": "cf93a329",
   "metadata": {},
   "outputs": [],
   "source": [
    "#Create a program that checks if a given word, is a palindrome. \n",
    "n = str(input(\"Enter the string : \"))\n",
    "\n",
    "def pallindrome(n):\n",
    "    l=list(n)\n",
    "    l.reverse()\n",
    "    if n==\"\".join(l):\n",
    "        return print(\"The given word is pallindrome word\")\n",
    "    else:\n",
    "        return print(\"The given word is not a pallindrome word\")\n",
    "    \n",
    "pallindrome(n)"
   ]
  },
  {
   "cell_type": "markdown",
   "id": "5e1a36a7",
   "metadata": {},
   "source": [
    "# List and Looping"
   ]
  },
  {
   "cell_type": "code",
   "execution_count": null,
   "id": "7b09df5a",
   "metadata": {},
   "outputs": [],
   "source": [
    "#Write a one-liner using list comprehension to generate a list of squares of numbers from 1 to 10. \n",
    "l=[w*w for w in range(1,11)]\n",
    "print(l)"
   ]
  },
  {
   "cell_type": "code",
   "execution_count": null,
   "id": "a4f4b8ba",
   "metadata": {},
   "outputs": [],
   "source": [
    "#Implement a function that takes a list of temperatures in Celsius and uses the map function to convert them to Fahrenheit.  \n",
    "n=int(input(\"Enter the number of inputs you want to enter : \"))\n",
    "\n",
    "def Fahrenheit(c):\n",
    "    return (((9/5)*c)+32)\n",
    "def celsius(f):\n",
    "    return (((5/9)*(f-32)))\n",
    "\n",
    "def inlist(n):\n",
    "    l=[]\n",
    "    print(\"Enter the list of temperatures : \")\n",
    "    for i in range(n):\n",
    "        x=float(input())\n",
    "        l.append(x)\n",
    "    return l\n",
    "\n",
    "l = inlist(n)  \n",
    "F = list(map(Fahrenheit,l))\n",
    "C = list(map(celsius,l))\n",
    "print()\n",
    "\n",
    "print(\"Fahrenheit : \",F)\n",
    "print(\"celsius : \",C)"
   ]
  },
  {
   "cell_type": "markdown",
   "id": "5448a6e2",
   "metadata": {},
   "source": [
    "# Conditional statements "
   ]
  },
  {
   "cell_type": "code",
   "execution_count": null,
   "id": "d829e082",
   "metadata": {},
   "outputs": [],
   "source": [
    "#Implement a program that checks if a given number is even or odd without modular operator\n",
    "n=str(input(\"Enter the number : \"))\n",
    "l = ['1','3','4','5','7','9']\n",
    "if n[-1] in l:\n",
    "    print(f\"{n} is a odd number.\")\n",
    "else:\n",
    "    print(f\"{n} is an even number.\")"
   ]
  },
  {
   "cell_type": "code",
   "execution_count": null,
   "id": "76a77681",
   "metadata": {},
   "outputs": [],
   "source": [
    "#Write a program that determines whether a year is a leap year or not\n",
    "n=int(input(\"Enter the number : \"))\n",
    "if n%4==0:\n",
    "    print(f\"{n} is a leap year.\")\n",
    "else:\n",
    "    print(f\"{n} is not a leap year.\")"
   ]
  },
  {
   "cell_type": "markdown",
   "id": "9d5214c2",
   "metadata": {},
   "source": [
    "# Logical Patterns"
   ]
  },
  {
   "cell_type": "code",
   "execution_count": null,
   "id": "fa3920fa",
   "metadata": {},
   "outputs": [],
   "source": [
    "#Create a program to print a right-angled triangle pattern using asterisks\n",
    "for i in range(6):\n",
    "    print(\"*\"*i)"
   ]
  },
  {
   "cell_type": "code",
   "execution_count": null,
   "id": "52fc2136",
   "metadata": {},
   "outputs": [],
   "source": [
    "#Write a program to print the Fibonacci sequence up to a specified number of terms\n",
    "n=int(input(\"Enter the number : \"))\n",
    "\n",
    "def fib(n):\n",
    "    f = [0,1]\n",
    "    for i in range(2,n):\n",
    "        s = f[-1]+f[-2]\n",
    "        f.append(s)\n",
    "    return f\n",
    "\n",
    "print(fib(n))"
   ]
  },
  {
   "cell_type": "code",
   "execution_count": null,
   "id": "ae5b46bc",
   "metadata": {},
   "outputs": [],
   "source": [
    "#Implement a program to generate the following pattern:\n",
    "for i in range(4,0,-1):\n",
    "    for j in range(i):\n",
    "        if i!=j:\n",
    "            print(\" \",end=\"\")\n",
    "        else:\n",
    "            print(j,end=\"\")\n",
    "    for k in range(4,i-1,-1):\n",
    "        if i!=k:\n",
    "            print(k,end=\" \")\n",
    "        else:\n",
    "            print(i)\n",
    "    print() "
   ]
  },
  {
   "cell_type": "markdown",
   "id": "c640d742",
   "metadata": {},
   "source": [
    "# File Handling"
   ]
  },
  {
   "cell_type": "code",
   "execution_count": null,
   "id": "70c244cd",
   "metadata": {},
   "outputs": [],
   "source": [
    "#Write a program to read data from a file and display it on the console\n",
    "f = open(\"D:/text.txt\",\"r\")\n",
    "print(f.read())\n",
    "f.close()"
   ]
  },
  {
   "cell_type": "code",
   "execution_count": null,
   "id": "2e7645a5",
   "metadata": {},
   "outputs": [],
   "source": [
    "#Create a program that writes a list of numbers to a pickle file\n",
    "import pickle"
   ]
  },
  {
   "cell_type": "code",
   "execution_count": null,
   "id": "528501eb",
   "metadata": {},
   "outputs": [],
   "source": [
    "l = [w for w in range(1,11)]\n",
    "p = pickle.dumps(l)\n",
    "pickle.loads(p)"
   ]
  },
  {
   "cell_type": "code",
   "execution_count": null,
   "id": "2db09487",
   "metadata": {},
   "outputs": [],
   "source": [
    "with open('D:/new.txt', 'wb') as f:\n",
    "    pickle.dump(l, f)\n",
    "f.close()"
   ]
  },
  {
   "cell_type": "code",
   "execution_count": null,
   "id": "af04e3bc",
   "metadata": {},
   "outputs": [],
   "source": [
    "with open('D:/new.txt', 'rb') as f:\n",
    "    fp=pickle.load(f)\n",
    "print(fp)"
   ]
  },
  {
   "cell_type": "markdown",
   "id": "86dd7b39",
   "metadata": {},
   "source": [
    "# Random Module"
   ]
  },
  {
   "cell_type": "code",
   "execution_count": null,
   "id": "e4e06900",
   "metadata": {},
   "outputs": [],
   "source": [
    "#Implement a program that generates a random number between a specified range. \n",
    "import numpy as np\n",
    "\n",
    "n = int(input(\"Enter the lower range : \"))\n",
    "m = int(input(\"Enter the upper range : \"))"
   ]
  },
  {
   "cell_type": "code",
   "execution_count": null,
   "id": "e63a9da9",
   "metadata": {},
   "outputs": [],
   "source": [
    "a = np.random.rand(n,m)\n",
    "a"
   ]
  },
  {
   "cell_type": "code",
   "execution_count": null,
   "id": "94b1dec9",
   "metadata": {},
   "outputs": [],
   "source": [
    "#Write a program that simulates a dice roll\n",
    "a = np.random.randint(1,7)\n",
    "a"
   ]
  },
  {
   "cell_type": "markdown",
   "id": "09574b45",
   "metadata": {},
   "source": [
    "# Function Definitions"
   ]
  },
  {
   "cell_type": "code",
   "execution_count": null,
   "id": "1666ea07",
   "metadata": {},
   "outputs": [],
   "source": [
    "#Create a function to calculate the factorial of a list of numbers\n",
    "def fac(n):\n",
    "    f=1\n",
    "    for i in range(1,n+1):\n",
    "        f = f*i\n",
    "    return f\n",
    "\n",
    "n=int(input(\"Enter the number of inputs you want to enter : \"))\n",
    "def inlist(n):\n",
    "    l=[]\n",
    "    print(\"Enter the list of numbers : \")\n",
    "    for i in range(n):\n",
    "        x=int(input())\n",
    "        l.append(x)\n",
    "    return l"
   ]
  },
  {
   "cell_type": "code",
   "execution_count": null,
   "id": "d98fa71c",
   "metadata": {},
   "outputs": [],
   "source": [
    "l = inlist(n)\n",
    "f = list(map(fac,l))\n",
    "print(f)"
   ]
  },
  {
   "cell_type": "code",
   "execution_count": null,
   "id": "9bf3d343",
   "metadata": {},
   "outputs": [],
   "source": [
    "#Write a function that returns the greatest common divisor (GCD) of two numbers. \n",
    "import numpy as np\n",
    "#n=int(input(\"Enter the number of inputs you want to enter : \"))\n",
    "n=2\n",
    "def inlist(n):\n",
    "    l=[]\n",
    "    print(\"Enter the list of numbers : \")\n",
    "    for i in range(n):\n",
    "        x=int(input())\n",
    "        l.append(x)\n",
    "    return l\n",
    "\n",
    "def gcd(n):\n",
    "    l = inlist(n)\n",
    "    l = np.array(l)\n",
    "    d = []\n",
    "    for i in range(1,min(l)):\n",
    "        if l[0]%i==0 and l[1]%i==0:\n",
    "            d.append(i)\n",
    "    return max(d),l\n",
    "\n",
    "d,l = gcd(n)\n",
    "print(f\"The gcd of {l} is : \",d)"
   ]
  },
  {
   "cell_type": "code",
   "execution_count": null,
   "id": "0360482a",
   "metadata": {},
   "outputs": [],
   "source": [
    "#Solve prime number using recursion.\n",
    "n = int(input(\"Enter the number : \"))\n",
    "\n",
    "def prime(i,n):\n",
    "    if n==i:\n",
    "        return False\n",
    "    else:\n",
    "        if(n%i==0):\n",
    "            return True\n",
    "        else:\n",
    "            return (prime(i+1,n))\n",
    "\n",
    "p = prime(2,n)\n",
    "if (prime(2,p)==False):\n",
    "    print(f\"{n} is not a prime number\")\n",
    "else:\n",
    "    print(f\"{n} is a prime number\")"
   ]
  },
  {
   "cell_type": "markdown",
   "id": "4b58bd30",
   "metadata": {},
   "source": [
    "# Dictionary manipulation"
   ]
  },
  {
   "cell_type": "code",
   "execution_count": null,
   "id": "dc486d8a",
   "metadata": {},
   "outputs": [],
   "source": [
    "#Write a program that counts the frequency of each character in a given string and stores it in a dictionary\n",
    "n = str(input(\"Enter the string : \"))\n",
    "\n",
    "d={}\n",
    "l=list(n)\n",
    "for i in n:\n",
    "    c=n.count(i)\n",
    "    d.update({i:c})\n",
    "d"
   ]
  },
  {
   "cell_type": "code",
   "execution_count": null,
   "id": "edfffc28",
   "metadata": {},
   "outputs": [],
   "source": [
    "#Create a program that combines two dictionaries into a new one.\n",
    "n = str(input(\"Enter the string : \"))\n",
    "\n",
    "d_new={}\n",
    "l=list(n)\n",
    "for i in n:\n",
    "    c=n.count(i)\n",
    "    d_new.update({i:c})\n",
    "d_new"
   ]
  },
  {
   "cell_type": "code",
   "execution_count": null,
   "id": "8d150cf9",
   "metadata": {},
   "outputs": [],
   "source": [
    "d.update(d_new)"
   ]
  },
  {
   "cell_type": "code",
   "execution_count": null,
   "id": "56abc92b",
   "metadata": {},
   "outputs": [],
   "source": [
    "print(d)"
   ]
  },
  {
   "cell_type": "code",
   "execution_count": null,
   "id": "c81475b9",
   "metadata": {},
   "outputs": [],
   "source": [
    "#Update, remove, add operations sort, threshold filtering\n",
    "d.pop(\"a\") #remove"
   ]
  },
  {
   "cell_type": "code",
   "execution_count": null,
   "id": "cdc722da",
   "metadata": {},
   "outputs": [],
   "source": [
    "d"
   ]
  },
  {
   "cell_type": "code",
   "execution_count": null,
   "id": "bf6d9509",
   "metadata": {},
   "outputs": [],
   "source": [
    "del(d['l'])"
   ]
  },
  {
   "cell_type": "code",
   "execution_count": null,
   "id": "ad198815",
   "metadata": {},
   "outputs": [],
   "source": [
    "#filter dictionary\n",
    "test_dict = {'harry':4, \"ron\":5.3, \"harmoine\":8, \"lily\":1, \"max\":2}\n",
    "res = {key:value for key,value in test_dict.items() if value>3}\n",
    "print(res)"
   ]
  },
  {
   "cell_type": "code",
   "execution_count": null,
   "id": "4ad8d4c1",
   "metadata": {},
   "outputs": [],
   "source": [
    "res = {key:value for key,value in test_dict.items() if not isinstance (value,int) or value>3}"
   ]
  },
  {
   "cell_type": "code",
   "execution_count": null,
   "id": "de086a66",
   "metadata": {},
   "outputs": [],
   "source": [
    "res"
   ]
  },
  {
   "cell_type": "code",
   "execution_count": null,
   "id": "0de86efe",
   "metadata": {},
   "outputs": [],
   "source": [
    "sorted(test_dict,reverse=True)"
   ]
  },
  {
   "cell_type": "code",
   "execution_count": null,
   "id": "099ebb09",
   "metadata": {},
   "outputs": [],
   "source": [
    "testt_dict = {\"snape\":7, \"magonigal\":5, \"dumbledore\":6}\n",
    "test_dict |= testt_dict"
   ]
  },
  {
   "cell_type": "code",
   "execution_count": null,
   "id": "6d5e5d6d",
   "metadata": {},
   "outputs": [],
   "source": [
    "test_dict"
   ]
  },
  {
   "cell_type": "markdown",
   "id": "5572011d",
   "metadata": {},
   "source": [
    "# Error Handling"
   ]
  },
  {
   "cell_type": "code",
   "execution_count": null,
   "id": "4aa0158a",
   "metadata": {},
   "outputs": [],
   "source": [
    "#Implement a program that handles exceptions for division by zero\n",
    "try:\n",
    "    n = 5/0\n",
    "except:\n",
    "    print(\"Division by zero Handled\")"
   ]
  },
  {
   "cell_type": "code",
   "execution_count": null,
   "id": "9b38660b",
   "metadata": {},
   "outputs": [],
   "source": [
    "#Write a program that prompts the user to enter a number and handles the Value Error if the input is not a valid number\n",
    "try:\n",
    "    n = float(input(\"Enter the number : \"))\n",
    "except:\n",
    "    print(\"Invalid number\")\n"
   ]
  },
  {
   "cell_type": "markdown",
   "id": "d7eda9f8",
   "metadata": {},
   "source": [
    "# Generator"
   ]
  },
  {
   "cell_type": "code",
   "execution_count": null,
   "id": "5f183f64",
   "metadata": {},
   "outputs": [],
   "source": [
    "#1.Fibonacci generator\n",
    "#Implement a generator that generates the Fibonacci sequence up to a specified limit. \n",
    "n=int(input(\"Enter the limit : \"))\n",
    "\n",
    "def fib(n):\n",
    "    f = [0,1]\n",
    "    for i in range(2,n):\n",
    "        s = f[-1]+f[-2]\n",
    "        f.append(s)\n",
    "    yield f\n",
    "    \n",
    "x = fib(n)\n",
    "print(next(x))"
   ]
  },
  {
   "cell_type": "markdown",
   "id": "e6be5e70",
   "metadata": {},
   "source": [
    "# Decorators"
   ]
  },
  {
   "cell_type": "code",
   "execution_count": null,
   "id": "d0565faa",
   "metadata": {},
   "outputs": [],
   "source": [
    "#1.Time decorator\n",
    "#Implement a decorator that calculates and prints the execution time of a function\n",
    "from time import time\n",
    "\n",
    "def wrap(f):\n",
    "    def add(*args,**kwargs):\n",
    "        t=time()\n",
    "        val=f(*args,**kwargs)\n",
    "        print(val)\n",
    "        t2=time()\n",
    "        print(t2-t)\n",
    "        return val\n",
    "    return add\n",
    "\n",
    "@wrap\n",
    "def trial(n):\n",
    "    return sum(n)"
   ]
  },
  {
   "cell_type": "code",
   "execution_count": null,
   "id": "ab479b80",
   "metadata": {},
   "outputs": [],
   "source": [
    "print(trial([w for w in range(100000)]))"
   ]
  },
  {
   "cell_type": "code",
   "execution_count": null,
   "id": "dbc5cda5",
   "metadata": {},
   "outputs": [],
   "source": [
    "from time import time \n",
    "\n",
    "def timer_func(func): \n",
    "    def wrap_func(*args): \n",
    "        t1 = time() \n",
    "        result = func(*args) \n",
    "        t2 = time() \n",
    "        print(f'Function {func.__name__!r} executed in {(t2-t1):.4f}s') \n",
    "        return result \n",
    "    return wrap_func \n",
    "\n",
    "@timer_func\n",
    "def long_time(*n): \n",
    "    print(\"time\")\n",
    "\n",
    "long_time([1,2,3,4,5])"
   ]
  },
  {
   "cell_type": "code",
   "execution_count": null,
   "id": "33eb4797",
   "metadata": {},
   "outputs": [],
   "source": [
    "#Create a decorator for memorization, which stores the results of expensive function calls and \n",
    "#returns the cached result when the same inputs occur again.\n",
    "\n",
    "def memoize(f):\n",
    "    cache={}\n",
    "    def h(i):\n",
    "        if i not in cache:\n",
    "            cache[i]=f(i)\n",
    "        return cache[i]\n",
    "    return h"
   ]
  },
  {
   "cell_type": "code",
   "execution_count": null,
   "id": "352495b2",
   "metadata": {},
   "outputs": [],
   "source": [
    "@memoize\n",
    "def fac(n):\n",
    "    if n==1:\n",
    "        return 1\n",
    "    else:\n",
    "        return n*fac(n-1)\n",
    "print(fac(5))"
   ]
  },
  {
   "cell_type": "code",
   "execution_count": null,
   "id": "07ebeef9",
   "metadata": {},
   "outputs": [],
   "source": [
    "@memoize\n",
    "def fib(n):\n",
    "    if n==0:\n",
    "        return 0\n",
    "    if n==1:\n",
    "        return 1\n",
    "    else:\n",
    "        return fib(n-1)+fib(n-2)"
   ]
  },
  {
   "cell_type": "code",
   "execution_count": null,
   "id": "f31f4e5b",
   "metadata": {},
   "outputs": [],
   "source": [
    "print(fib(10))"
   ]
  },
  {
   "cell_type": "code",
   "execution_count": null,
   "id": "530f2952",
   "metadata": {},
   "outputs": [],
   "source": [
    "import functools\n",
    "import timeit"
   ]
  },
  {
   "cell_type": "code",
   "execution_count": null,
   "id": "510f2884",
   "metadata": {},
   "outputs": [],
   "source": [
    "@functools.lru_cache(maxsize=128)\n",
    "def fib(n):\n",
    "    if n==0:\n",
    "        return 0\n",
    "    if n==1:\n",
    "        return 1\n",
    "    else:\n",
    "        return fib(n-1)+fib(n-2)"
   ]
  },
  {
   "cell_type": "code",
   "execution_count": null,
   "id": "d7bba576",
   "metadata": {},
   "outputs": [],
   "source": [
    "timeit.timeit('fib(10)',globals=globals(),number=5)"
   ]
  },
  {
   "cell_type": "code",
   "execution_count": null,
   "id": "5fa247b1",
   "metadata": {},
   "outputs": [],
   "source": [
    "fib.cache_info()"
   ]
  },
  {
   "cell_type": "code",
   "execution_count": null,
   "id": "bba0615f",
   "metadata": {},
   "outputs": [],
   "source": [
    "#Implement a decorator that checks if a user is authenticated before allowing access to a specific function. \n",
    "def auth(user):\n",
    "    return (user==\"authenticated\")\n",
    "\n",
    "def auth_d(f):\n",
    "    def wrap(*args,**kwargs):\n",
    "        user=kwargs.get(\"user\")\n",
    "        if auth(user):\n",
    "            return f(*args,**kwargs)\n",
    "        else:\n",
    "            raise PermissionError(\"User not authenticated\")\n",
    "    return wrap\n",
    "\n",
    "@auth_d\n",
    "def res_f(user):\n",
    "    print(\"access granted\")\n",
    "    print(fib(5))\n",
    "    \n",
    "def fib(n):\n",
    "    if n==0:\n",
    "        return 0\n",
    "    if n==1:\n",
    "        return 1\n",
    "    else:\n",
    "        return fib(n-1)+fib(n-2)\n",
    "    \n",
    "res_f(user=\"authenticated\")"
   ]
  },
  {
   "cell_type": "markdown",
   "id": "787fc891",
   "metadata": {},
   "source": [
    "# Object oriented programming"
   ]
  },
  {
   "cell_type": "code",
   "execution_count": null,
   "id": "c08c6aeb",
   "metadata": {},
   "outputs": [],
   "source": [
    "#Design a Bank Account class that includes methods for deposit, withdrawal, and checking the balance\n",
    "class bank_acc:\n",
    "\n",
    "    def __init__(self,bal):\n",
    "        self.bal = bal\n",
    "         \n",
    "    def deposit(self,amount):\n",
    "        self.bal = self.bal+amount\n",
    "        print(\"Total balance : \",self.bal)\n",
    "        return self.bal\n",
    "    \n",
    "    def withdrawal(self,amount):\n",
    "        if (self.bal-amount)>100:\n",
    "            self.bal=self.bal-amount\n",
    "            print(\"Remaining balance : \",self.bal)\n",
    "        else:\n",
    "            print(\"Insufficient balance\")\n",
    "            \n",
    "    def check(self):\n",
    "        print(\"The current balance is : \",self.bal)"
   ]
  },
  {
   "cell_type": "code",
   "execution_count": null,
   "id": "bb72a666",
   "metadata": {},
   "outputs": [],
   "source": [
    "name = str(input(\"Enter the name : \"))\n",
    "bal = float(input(\"Enter the balance : \"))\n",
    "c=bank_acc(bal)\n",
    "n = int(input(\"For checking the balance press 0 / For deposit press 1 / for withdrawal press 2 : \"))\n",
    "\n",
    "if n==0:\n",
    "    c.check()\n",
    "elif n==1:\n",
    "    amount = float(input(\"Enter the amount : \"))\n",
    "    c.deposit(amount)\n",
    "elif n==2:\n",
    "    amount = float(input(\"Enter the amount : \"))\n",
    "    c.withdrawal(amount)\n",
    "else:\n",
    "    print(\"Invalid input\")"
   ]
  },
  {
   "cell_type": "code",
   "execution_count": null,
   "id": "f21c7b91",
   "metadata": {},
   "outputs": [],
   "source": [
    "#polymorphism\n",
    "class animal:\n",
    "    def intro(self):\n",
    "        print(\"There are many types of animals\")\n",
    "    \n",
    "    def voice(self):\n",
    "        print(\"Different animal have different sound\")\n",
    "    \n",
    "class dog(animal):\n",
    "    def voice(self):\n",
    "        print(\"Bark\")\n",
    "        \n",
    "class fish(animal):\n",
    "    def voice(self):\n",
    "        print(\"unheard\")"
   ]
  },
  {
   "cell_type": "code",
   "execution_count": null,
   "id": "9ed5c2ba",
   "metadata": {},
   "outputs": [],
   "source": [
    "o_animal=animal()\n",
    "o_dog=dog()\n",
    "o_fish=fish()"
   ]
  },
  {
   "cell_type": "code",
   "execution_count": null,
   "id": "76d9cd45",
   "metadata": {},
   "outputs": [],
   "source": [
    "o_animal.intro()"
   ]
  },
  {
   "cell_type": "code",
   "execution_count": null,
   "id": "13169ebc",
   "metadata": {},
   "outputs": [],
   "source": [
    "o_dog.voice()"
   ]
  },
  {
   "cell_type": "code",
   "execution_count": null,
   "id": "4b24849c",
   "metadata": {},
   "outputs": [],
   "source": [
    "#inheritance\n",
    "class "
   ]
  },
  {
   "cell_type": "code",
   "execution_count": 1,
   "id": "bce40581",
   "metadata": {},
   "outputs": [],
   "source": [
    "import logging\n",
    "import threading\n",
    "import time"
   ]
  },
  {
   "cell_type": "code",
   "execution_count": 4,
   "id": "f8962278",
   "metadata": {},
   "outputs": [
    {
     "name": "stderr",
     "output_type": "stream",
     "text": [
      "16:50:34: before creating thread\n",
      "16:50:34: before running thread\n",
      "16:50:34: thread 1 : starting\n",
      "16:50:34: wait for the thread to finish\n",
      "16:50:34: all done\n",
      "16:50:36: thread 1 : finishing\n"
     ]
    }
   ],
   "source": [
    "def thread(name):\n",
    "    logging.info(\"thread %s : starting\",name)\n",
    "    time.sleep(2)\n",
    "    logging.info(\"thread %s : finishing\",name)\n",
    "    \n",
    "format = \"%(asctime)s: %(message)s\"\n",
    "logging.basicConfig(format=format, level=logging.INFO,\n",
    "                    datefmt=\"%H:%M:%S\")\n",
    "\n",
    "logging.info(\"before creating thread\")\n",
    "x = threading.Thread(target=thread, args=(1,))\n",
    "logging.info(\"before running thread\")\n",
    "x.start()\n",
    "logging.info(\"wait for the thread to finish\")\n",
    "# x.join()\n",
    "logging.info(\"all done\")"
   ]
  },
  {
   "cell_type": "code",
   "execution_count": null,
   "id": "46f5fc39",
   "metadata": {},
   "outputs": [],
   "source": []
  },
  {
   "cell_type": "code",
   "execution_count": null,
   "id": "15d7a92b",
   "metadata": {},
   "outputs": [],
   "source": []
  }
 ],
 "metadata": {
  "kernelspec": {
   "display_name": "Python 3 (ipykernel)",
   "language": "python",
   "name": "python3"
  },
  "language_info": {
   "codemirror_mode": {
    "name": "ipython",
    "version": 3
   },
   "file_extension": ".py",
   "mimetype": "text/x-python",
   "name": "python",
   "nbconvert_exporter": "python",
   "pygments_lexer": "ipython3",
   "version": "3.11.5"
  }
 },
 "nbformat": 4,
 "nbformat_minor": 5
}
