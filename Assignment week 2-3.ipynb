{
 "cells": [
  {
   "cell_type": "markdown",
   "id": "6fa78f95",
   "metadata": {},
   "source": [
    "# Math operations"
   ]
  },
  {
   "cell_type": "code",
   "execution_count": null,
   "id": "1e70bf07",
   "metadata": {},
   "outputs": [],
   "source": [
    "#Create a program that calculates the area of a circle given its radius\n",
    "n = float(input(\"Enter the radius : \"))\n",
    "print(\"The area of circle is : \",3.14*n**2)"
   ]
  },
  {
   "cell_type": "code",
   "execution_count": null,
   "id": "3f46d028",
   "metadata": {},
   "outputs": [],
   "source": [
    "#Find Armstrong number in range (0,1000) \n",
    "n = int(input(\"Enter the number : \"))\n",
    "\n",
    "def arm(n):\n",
    "    p = len(str(n))\n",
    "    l = list(str(n))\n",
    "    total = 0\n",
    "    for i in l:\n",
    "        total += int(i)**p\n",
    "    if total==n:\n",
    "        print(f\"{n} is an armstrong number.\")\n",
    "    else:\n",
    "        print(f\"{n} is not an armstrong number.\")\n",
    "        \n",
    "arm(n)"
   ]
  },
  {
   "cell_type": "code",
   "execution_count": null,
   "id": "2fc93e48",
   "metadata": {},
   "outputs": [],
   "source": [
    "#Check where the given number is prime or not? \n",
    "n = int(input(\"Enter the number : \"))\n",
    "\n",
    "def prime(n):\n",
    "    if n<=1:\n",
    "        return (print(f\"{n} is not a prime number.\"))\n",
    "    for i in range(2,int(n**0.5)+1):\n",
    "        if n%i==0:\n",
    "            return (print(f\"{n} is not a prime number.\"))\n",
    "    return (print(f\"{n} is a prime number.\"))\n",
    "\n",
    "prime(n)"
   ]
  },
  {
   "cell_type": "markdown",
   "id": "546d6492",
   "metadata": {},
   "source": [
    "# String Manupulation"
   ]
  },
  {
   "cell_type": "code",
   "execution_count": null,
   "id": "8a3c4241",
   "metadata": {},
   "outputs": [],
   "source": [
    "#Implement a program that counts the number of vowels in a given string.\n",
    "n = str(input(\"Enter the string : \"))\n",
    "\n",
    "def count(n):\n",
    "    l = ['a','e','i','o','u']\n",
    "    n = n.lower()\n",
    "    c=0\n",
    "    for i in n:\n",
    "        if i in l:\n",
    "            c+=1\n",
    "    return print(\"The number of vowels in the given string are : \",c)\n",
    "\n",
    "count(n)"
   ]
  },
  {
   "cell_type": "code",
   "execution_count": null,
   "id": "cf93a329",
   "metadata": {},
   "outputs": [],
   "source": [
    "#Create a program that checks if a given word, is a palindrome. \n",
    "n = str(input(\"Enter the string : \"))\n",
    "\n",
    "def pallindrome(n):\n",
    "    l=list(n)\n",
    "    l.reverse()\n",
    "    if n==\"\".join(l):\n",
    "        return print(\"The given word is pallindrome word\")\n",
    "    else:\n",
    "        return print(\"The given word is not a pallindrome word\")\n",
    "    \n",
    "pallindrome(n)"
   ]
  },
  {
   "cell_type": "markdown",
   "id": "5e1a36a7",
   "metadata": {},
   "source": [
    "# List and Looping"
   ]
  },
  {
   "cell_type": "code",
   "execution_count": null,
   "id": "7b09df5a",
   "metadata": {},
   "outputs": [],
   "source": [
    "#Write a one-liner using list comprehension to generate a list of squares of numbers from 1 to 10. \n",
    "l=[w*w for w in range(1,11)]\n",
    "print(l)"
   ]
  },
  {
   "cell_type": "code",
   "execution_count": null,
   "id": "a4f4b8ba",
   "metadata": {},
   "outputs": [],
   "source": [
    "#Implement a function that takes a list of temperatures in Celsius and uses the map function to convert them to Fahrenheit.  \n",
    "n=int(input(\"Enter the number of inputs you want to enter : \"))\n",
    "\n",
    "def Fahrenheit(c):\n",
    "    return (((9/5)*c)+32)\n",
    "def celsius(f):\n",
    "    return (((5/9)*(f-32)))\n",
    "\n",
    "def inlist(n):\n",
    "    l=[]\n",
    "    print(\"Enter the list of temperatures : \")\n",
    "    for i in range(n):\n",
    "        x=float(input())\n",
    "        l.append(x)\n",
    "    return l\n",
    "\n",
    "l = inlist(n)  \n",
    "F = list(map(Fahrenheit,l))\n",
    "C = list(map(celsius,l))\n",
    "print()\n",
    "\n",
    "print(\"Fahrenheit : \",F)\n",
    "print(\"celsius : \",C)"
   ]
  },
  {
   "cell_type": "markdown",
   "id": "5448a6e2",
   "metadata": {},
   "source": [
    "# Conditional statements "
   ]
  },
  {
   "cell_type": "code",
   "execution_count": null,
   "id": "d829e082",
   "metadata": {},
   "outputs": [],
   "source": [
    "#Implement a program that checks if a given number is even or odd without modular operator\n",
    "n=str(input(\"Enter the number : \"))\n",
    "l = ['1','3','4','5','7','9']\n",
    "if n[-1] in l:\n",
    "    print(f\"{n} is a odd number.\")\n",
    "else:\n",
    "    print(f\"{n} is an even number.\")"
   ]
  },
  {
   "cell_type": "code",
   "execution_count": null,
   "id": "76a77681",
   "metadata": {},
   "outputs": [],
   "source": [
    "#Write a program that determines whether a year is a leap year or not\n",
    "n=int(input(\"Enter the number : \"))\n",
    "if n%4==0:\n",
    "    print(f\"{n} is a leap year.\")\n",
    "else:\n",
    "    print(f\"{n} is not a leap year.\")"
   ]
  },
  {
   "cell_type": "markdown",
   "id": "9d5214c2",
   "metadata": {},
   "source": [
    "# Logical Patterns"
   ]
  },
  {
   "cell_type": "code",
   "execution_count": null,
   "id": "fa3920fa",
   "metadata": {},
   "outputs": [],
   "source": [
    "#Create a program to print a right-angled triangle pattern using asterisks\n",
    "for i in range(6):\n",
    "    print(\"*\"*i)"
   ]
  },
  {
   "cell_type": "code",
   "execution_count": null,
   "id": "52fc2136",
   "metadata": {},
   "outputs": [],
   "source": [
    "#Write a program to print the Fibonacci sequence up to a specified number of terms\n",
    "n=int(input(\"Enter the number : \"))\n",
    "\n",
    "def fib(n):\n",
    "    f = [0,1]\n",
    "    for i in range(2,n):\n",
    "        s = f[-1]+f[-2]\n",
    "        f.append(s)\n",
    "    return f\n",
    "\n",
    "print(fib(n))"
   ]
  },
  {
   "cell_type": "code",
   "execution_count": 16,
   "id": "ae5b46bc",
   "metadata": {},
   "outputs": [
    {
     "name": "stdout",
     "output_type": "stream",
     "text": [
      "    4\n",
      "\n",
      "   4 3\n",
      "\n",
      "  4 3 2\n",
      "\n",
      " 4 3 2 1\n",
      "\n"
     ]
    }
   ],
   "source": [
    "#Implement a program to generate the following pattern:\n",
    "for i in range(4,0,-1):\n",
    "    for j in range(i):\n",
    "        if i!=j:\n",
    "            print(\" \",end=\"\")\n",
    "        else:\n",
    "            print(j,end=\"\")\n",
    "    for k in range(4,i-1,-1):\n",
    "        if i!=k:\n",
    "            print(k,end=\" \")\n",
    "        else:\n",
    "            print(i)\n",
    "    print() "
   ]
  },
  {
   "cell_type": "markdown",
   "id": "c640d742",
   "metadata": {},
   "source": [
    "# File Handling"
   ]
  },
  {
   "cell_type": "code",
   "execution_count": 1,
   "id": "70c244cd",
   "metadata": {},
   "outputs": [
    {
     "name": "stdout",
     "output_type": "stream",
     "text": [
      "The sky is blue\n",
      "\n"
     ]
    }
   ],
   "source": [
    "#Write a program to read data from a file and display it on the console\n",
    "f = open(\"D:/text.txt\",\"r\")\n",
    "print(f.read())\n",
    "f.close()"
   ]
  },
  {
   "cell_type": "code",
   "execution_count": 12,
   "id": "2e7645a5",
   "metadata": {},
   "outputs": [],
   "source": [
    "#Create a program that writes a list of numbers to a pickle file\n",
    "import pickle"
   ]
  },
  {
   "cell_type": "code",
   "execution_count": 13,
   "id": "528501eb",
   "metadata": {},
   "outputs": [
    {
     "data": {
      "text/plain": [
       "[1, 2, 3, 4, 5, 6, 7, 8, 9, 10]"
      ]
     },
     "execution_count": 13,
     "metadata": {},
     "output_type": "execute_result"
    }
   ],
   "source": [
    "l = [w for w in range(1,11)]\n",
    "p = pickle.dumps(l)\n",
    "pickle.loads(p)"
   ]
  },
  {
   "cell_type": "code",
   "execution_count": 14,
   "id": "2db09487",
   "metadata": {},
   "outputs": [],
   "source": [
    "with open('D:/new.txt', 'wb') as f:\n",
    "    pickle.dump(l, f)\n",
    "f.close()"
   ]
  },
  {
   "cell_type": "code",
   "execution_count": 15,
   "id": "af04e3bc",
   "metadata": {},
   "outputs": [
    {
     "name": "stdout",
     "output_type": "stream",
     "text": [
      "[1, 2, 3, 4, 5, 6, 7, 8, 9, 10]\n"
     ]
    }
   ],
   "source": [
    "with open('D:/new.txt', 'rb') as f:\n",
    "    fp=pickle.load(f)\n",
    "print(fp)"
   ]
  },
  {
   "cell_type": "markdown",
   "id": "86dd7b39",
   "metadata": {},
   "source": [
    "# Random Module"
   ]
  },
  {
   "cell_type": "code",
   "execution_count": 23,
   "id": "e4e06900",
   "metadata": {},
   "outputs": [
    {
     "name": "stdout",
     "output_type": "stream",
     "text": [
      "Enter the lower range : 2\n",
      "Enter the upper range : 12\n"
     ]
    }
   ],
   "source": [
    "#Implement a program that generates a random number between a specified range. \n",
    "import numpy as np\n",
    "\n",
    "n = int(input(\"Enter the lower range : \"))\n",
    "m = int(input(\"Enter the upper range : \"))"
   ]
  },
  {
   "cell_type": "code",
   "execution_count": 25,
   "id": "e63a9da9",
   "metadata": {},
   "outputs": [
    {
     "data": {
      "text/plain": [
       "array([[0.4486804 , 0.73780519, 0.39345086, 0.14538105, 0.99131303,\n",
       "        0.0451884 , 0.89196493, 0.54196193, 0.70693689, 0.98277023,\n",
       "        0.63119619, 0.71382045],\n",
       "       [0.37527869, 0.39494736, 0.67411493, 0.9982084 , 0.59594222,\n",
       "        0.27489734, 0.41559089, 0.77077971, 0.90567608, 0.3742441 ,\n",
       "        0.19747914, 0.00946014]])"
      ]
     },
     "execution_count": 25,
     "metadata": {},
     "output_type": "execute_result"
    }
   ],
   "source": [
    "a = np.random.rand(n,m)\n",
    "a"
   ]
  },
  {
   "cell_type": "code",
   "execution_count": 47,
   "id": "94b1dec9",
   "metadata": {},
   "outputs": [
    {
     "data": {
      "text/plain": [
       "2"
      ]
     },
     "execution_count": 47,
     "metadata": {},
     "output_type": "execute_result"
    }
   ],
   "source": [
    "#Write a program that simulates a dice roll\n",
    "a = np.random.randint(1,7)\n",
    "a"
   ]
  },
  {
   "cell_type": "markdown",
   "id": "09574b45",
   "metadata": {},
   "source": [
    "# Function Definitions"
   ]
  },
  {
   "cell_type": "code",
   "execution_count": 52,
   "id": "1666ea07",
   "metadata": {},
   "outputs": [
    {
     "name": "stdout",
     "output_type": "stream",
     "text": [
      "Enter the number of inputs you want to enter : 2\n",
      "Enter the list of numbers : \n",
      "2\n",
      "3\n",
      "[2, 6]\n"
     ]
    }
   ],
   "source": [
    "#Create a function to calculate the factorial of a list of numbers\n",
    "def fac(n):\n",
    "    f=1\n",
    "    for i in range(1,n+1):\n",
    "        f = f*i\n",
    "    return f\n",
    "\n",
    "n=int(input(\"Enter the number of inputs you want to enter : \"))\n",
    "def inlist(n):\n",
    "    l=[]\n",
    "    print(\"Enter the list of numbers : \")\n",
    "    for i in range(n):\n",
    "        x=int(input())\n",
    "        l.append(x)\n",
    "    return l"
   ]
  },
  {
   "cell_type": "code",
   "execution_count": 54,
   "id": "d98fa71c",
   "metadata": {},
   "outputs": [
    {
     "name": "stdout",
     "output_type": "stream",
     "text": [
      "2\n"
     ]
    }
   ],
   "source": [
    "l = inlist(n)\n",
    "f = list(map(fac,l))\n",
    "print(f)"
   ]
  },
  {
   "cell_type": "code",
   "execution_count": 74,
   "id": "9bf3d343",
   "metadata": {},
   "outputs": [
    {
     "name": "stdout",
     "output_type": "stream",
     "text": [
      "Enter the list of numbers : \n",
      "12\n",
      "24\n",
      "The gcd of [12 24] is :  6\n"
     ]
    }
   ],
   "source": [
    "#Write a function that returns the greatest common divisor (GCD) of two numbers. \n",
    "import numpy as np\n",
    "#n=int(input(\"Enter the number of inputs you want to enter : \"))\n",
    "n=2\n",
    "def inlist(n):\n",
    "    l=[]\n",
    "    print(\"Enter the list of numbers : \")\n",
    "    for i in range(n):\n",
    "        x=int(input())\n",
    "        l.append(x)\n",
    "    return l\n",
    "\n",
    "def gcd(n):\n",
    "    l = inlist(n)\n",
    "    l = np.array(l)\n",
    "    d = []\n",
    "    for i in range(1,min(l)):\n",
    "        if l[0]%i==0 and l[1]%i==0:\n",
    "            d.append(i)\n",
    "    return max(d),l\n",
    "\n",
    "d,l = gcd(n)\n",
    "print(f\"The gcd of {l} is : \",d)"
   ]
  },
  {
   "cell_type": "code",
   "execution_count": 77,
   "id": "0360482a",
   "metadata": {},
   "outputs": [
    {
     "name": "stdout",
     "output_type": "stream",
     "text": [
      "Enter the number : 5\n",
      "5 is a prime number\n"
     ]
    }
   ],
   "source": [
    "#Solve prime number using recursion.\n",
    "n = int(input(\"Enter the number : \"))\n",
    "\n",
    "def prime(i,n):\n",
    "    if n==i:\n",
    "        return False\n",
    "    else:\n",
    "        if(n%i==0):\n",
    "            return True\n",
    "        else:\n",
    "            return (prime(i+1,n))\n",
    "\n",
    "p = prime(2,n)\n",
    "if (prime(2,p)==False):\n",
    "    print(f\"{n} is not a prime number\")\n",
    "else:\n",
    "    print(f\"{n} is a prime number\")"
   ]
  },
  {
   "cell_type": "markdown",
   "id": "4b58bd30",
   "metadata": {},
   "source": [
    "# Dictionary manipulation"
   ]
  },
  {
   "cell_type": "code",
   "execution_count": 91,
   "id": "dc486d8a",
   "metadata": {},
   "outputs": [
    {
     "name": "stdout",
     "output_type": "stream",
     "text": [
      "Enter the string : apple\n"
     ]
    },
    {
     "data": {
      "text/plain": [
       "{'a': 1, 'p': 2, 'l': 1, 'e': 1}"
      ]
     },
     "execution_count": 91,
     "metadata": {},
     "output_type": "execute_result"
    }
   ],
   "source": [
    "#Write a program that counts the frequency of each character in a given string and stores it in a dictionary\n",
    "n = str(input(\"Enter the string : \"))\n",
    "\n",
    "d={}\n",
    "l=list(n)\n",
    "for i in n:\n",
    "    c=n.count(i)\n",
    "    d.update({i:c})\n",
    "d"
   ]
  },
  {
   "cell_type": "code",
   "execution_count": 92,
   "id": "edfffc28",
   "metadata": {},
   "outputs": [
    {
     "name": "stdout",
     "output_type": "stream",
     "text": [
      "Enter the string : custard\n"
     ]
    },
    {
     "data": {
      "text/plain": [
       "{'c': 1, 'u': 1, 's': 1, 't': 1, 'a': 1, 'r': 1, 'd': 1}"
      ]
     },
     "execution_count": 92,
     "metadata": {},
     "output_type": "execute_result"
    }
   ],
   "source": [
    "#Create a program that combines two dictionaries into a new one.\n",
    "n = str(input(\"Enter the string : \"))\n",
    "\n",
    "d_new={}\n",
    "l=list(n)\n",
    "for i in n:\n",
    "    c=n.count(i)\n",
    "    d_new.update({i:c})\n",
    "d_new"
   ]
  },
  {
   "cell_type": "code",
   "execution_count": 93,
   "id": "8d150cf9",
   "metadata": {},
   "outputs": [],
   "source": [
    "d.update(d_new)"
   ]
  },
  {
   "cell_type": "code",
   "execution_count": 95,
   "id": "56abc92b",
   "metadata": {},
   "outputs": [
    {
     "name": "stdout",
     "output_type": "stream",
     "text": [
      "{'a': 1, 'p': 2, 'l': 1, 'e': 1, 'c': 1, 'u': 1, 's': 1, 't': 1, 'r': 1, 'd': 1}\n"
     ]
    }
   ],
   "source": [
    "print(d)"
   ]
  },
  {
   "cell_type": "code",
   "execution_count": 96,
   "id": "c81475b9",
   "metadata": {},
   "outputs": [
    {
     "data": {
      "text/plain": [
       "1"
      ]
     },
     "execution_count": 96,
     "metadata": {},
     "output_type": "execute_result"
    }
   ],
   "source": [
    "#Update, remove, add operations sort, threshold filtering\n",
    "d.pop(\"a\") #remove"
   ]
  },
  {
   "cell_type": "code",
   "execution_count": 97,
   "id": "cdc722da",
   "metadata": {},
   "outputs": [
    {
     "name": "stdout",
     "output_type": "stream",
     "text": [
      "{'p': 2, 'l': 1, 'e': 1, 'c': 1, 'u': 1, 's': 1, 't': 1, 'r': 1, 'd': 1}\n"
     ]
    }
   ],
   "source": [
    "print(d)"
   ]
  },
  {
   "cell_type": "code",
   "execution_count": null,
   "id": "bf6d9509",
   "metadata": {},
   "outputs": [],
   "source": []
  },
  {
   "cell_type": "code",
   "execution_count": null,
   "id": "ad198815",
   "metadata": {},
   "outputs": [],
   "source": []
  }
 ],
 "metadata": {
  "kernelspec": {
   "display_name": "Python 3 (ipykernel)",
   "language": "python",
   "name": "python3"
  },
  "language_info": {
   "codemirror_mode": {
    "name": "ipython",
    "version": 3
   },
   "file_extension": ".py",
   "mimetype": "text/x-python",
   "name": "python",
   "nbconvert_exporter": "python",
   "pygments_lexer": "ipython3",
   "version": "3.11.5"
  }
 },
 "nbformat": 4,
 "nbformat_minor": 5
}
